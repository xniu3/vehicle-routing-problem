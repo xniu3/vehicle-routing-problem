{
  "cells": [
    {
      "cell_type": "code",
      "source": [
        "! pip3 install pulp"
      ],
      "metadata": {
        "colab": {
          "base_uri": "https://localhost:8080/"
        },
        "id": "PSqi_jrFQpq0",
        "outputId": "f0c49d5b-f593-4151-f121-133403c49159"
      },
      "execution_count": 1,
      "outputs": [
        {
          "output_type": "stream",
          "name": "stdout",
          "text": [
            "Collecting pulp\n",
            "  Downloading PuLP-2.6.0-py3-none-any.whl (14.2 MB)\n",
            "\u001b[K     |████████████████████████████████| 14.2 MB 11.4 MB/s \n",
            "\u001b[?25hInstalling collected packages: pulp\n",
            "Successfully installed pulp-2.6.0\n"
          ]
        }
      ]
    },
    {
      "cell_type": "code",
      "execution_count": 2,
      "metadata": {
        "id": "ZB88LCexKB98",
        "colab": {
          "base_uri": "https://localhost:8080/"
        },
        "outputId": "22815697-8c83-4a42-8953-7aa8a2fd2497"
      },
      "outputs": [
        {
          "output_type": "stream",
          "name": "stdout",
          "text": [
            "Mounted at /content/gdrive\n"
          ]
        }
      ],
      "source": [
        "from pulp import *\n",
        "import numpy as np\n",
        "import pandas as pd\n",
        "import matplotlib.pyplot as plt\n",
        "%matplotlib inline\n",
        "import seaborn as sn\n",
        "from google.colab import drive\n",
        "drive.mount('/content/gdrive')"
      ]
    },
    {
      "cell_type": "code",
      "source": [
        "#a handful of sites\n",
        "sites = ['Barcelona','Belgrade','Berlin','Brussels','Bucharest','Budapest','Copenhagen','Dublin','Hamburg','Istanbul','Kiev','London','Madrid','Milan','Moscow','Munich','Paris','Prague','Rome','Saint Petersburg','Sofia','Stockholm','Vienna','Warsaw','Beijing','Shanghai','Guangzhou','Shenzhen','Hong Kong']\n",
        "# sites = ['Barcelona','Belgrade','Berlin','Brussels','Bucharest','Budapest','Copenhagen']\n",
        "latlng = ['latitude', 'longitude']\n"
      ],
      "metadata": {
        "id": "PTNWOouFNN1T"
      },
      "execution_count": 3,
      "outputs": []
    },
    {
      "cell_type": "code",
      "source": [
        "path_position = F\"/content/gdrive/My Drive/vehicle_data/edmonton_position.csv\"\n",
        "position = pd.read_csv(path_position , index_col = \"City\")"
      ],
      "metadata": {
        "id": "ULCc5RjwOyHi"
      },
      "execution_count": 4,
      "outputs": []
    },
    {
      "cell_type": "code",
      "source": [
        "path_flighttime = F\"/content/gdrive/My Drive/vehicle_data/flight_time.csv\"\n",
        "flighttime = pd.read_csv(path_flighttime, index_col=\"City\")"
      ],
      "metadata": {
        "id": "CtwjKQBkO8lr"
      },
      "execution_count": null,
      "outputs": []
    },
    {
      "cell_type": "code",
      "execution_count": 5,
      "metadata": {
        "id": "R32w8kqAKB-C"
      },
      "outputs": [],
      "source": [
        "path_distance = F\"/content/gdrive/My Drive/vehicle_data/edmonton_distance.csv\"\n",
        "distance = pd.read_csv(path_distance, index_col=\"City\")\n",
        "# print(len(sites))"
      ]
    },
    {
      "cell_type": "code",
      "source": [
        "print(distance)"
      ],
      "metadata": {
        "colab": {
          "base_uri": "https://localhost:8080/"
        },
        "id": "vq3ndEhvRtH8",
        "outputId": "df336a2b-1dd6-4368-dbe8-4153e07c291f"
      },
      "execution_count": 6,
      "outputs": [
        {
          "output_type": "stream",
          "name": "stdout",
          "text": [
            "                     Barcelona      Belgrade        Berlin      Brussels  \\\n",
            "City                                                                       \n",
            "Barcelona             0.000000   7013.219963   5731.681634   3929.182709   \n",
            "Belgrade           7013.219963      0.000000  11704.402180   9642.040625   \n",
            "Berlin             5731.681634  11704.402180      0.000000   3776.116899   \n",
            "Brussels           3929.182709   9642.040625   3776.116899      0.000000   \n",
            "Bucharest         13504.551840   7717.705539  16156.305210  12926.200450   \n",
            "Budapest           5883.741729   8104.595890   7616.024304   4107.761745   \n",
            "Copenhagen         7030.965783  12727.001160   3490.479837   3577.401533   \n",
            "Dublin             9554.870222   6499.367981  11834.631710   8326.369156   \n",
            "Hamburg           11363.003100   7000.977287  13642.764590  10134.502030   \n",
            "Istanbul           7646.708079  12956.739760   4612.105686   4193.143829   \n",
            "Kiev              11618.038450  17300.643180   6533.249062   8164.474196   \n",
            "London            13815.793320  19498.398050   8667.881108  10362.229070   \n",
            "Madrid             7575.504709   9820.990899   9157.655655   5518.224047   \n",
            "Milan             12262.677430   7824.104463  14542.438920  11034.176360   \n",
            "Moscow            17975.627760  12585.874990  20255.389250  16747.126690   \n",
            "Munich            13385.578510   9714.362649  15089.254580  11842.253790   \n",
            "Paris             11904.034140  15881.961990  11033.488170   8479.909266   \n",
            "Prague            15330.031310  20378.949660  11116.875050  11827.723280   \n",
            "Rome              18227.598530  23276.516870  14014.442260  14725.290500   \n",
            "Saint Petersburg  18289.708610  14754.124040  19319.601610  16160.188390   \n",
            "Sofia             18422.298240  19470.838450  19075.741260  15916.328040   \n",
            "Stockholm         18523.220880  19550.043920  19178.071580  16018.658350   \n",
            "Vienna            18609.451190  22171.678090  17707.446180  15185.326320   \n",
            "Warsaw            20408.151030  24914.460030  16717.954020  16844.366110   \n",
            "Beijing           18710.145950  22282.432810  17801.448060  15286.021080   \n",
            "Shanghai          20441.651580  23770.599680  19539.646570  17017.526710   \n",
            "Guangzhou         20339.166480  23911.453340  19430.468600  16915.041610   \n",
            "Shenzhen          29669.894750  34287.985820  25979.697740  26106.109840   \n",
            "Hong Kong         14386.751360  18208.441440  13478.053470  10962.626480   \n",
            "\n",
            "                     Bucharest      Budapest    Copenhagen        Dublin  \\\n",
            "City                                                                       \n",
            "Barcelona         13504.551840   5883.741729   7030.965783   9554.870222   \n",
            "Belgrade           7717.705539   8104.595890  12727.001160   6499.367981   \n",
            "Berlin            16156.305210   7616.024304   3490.479837  11834.631710   \n",
            "Brussels          12926.200450   4107.761745   3577.401533   8326.369156   \n",
            "Bucharest             0.000000   9031.744536  13729.753440   6525.791836   \n",
            "Budapest           9031.744536      0.000000   4758.651239   4279.249744   \n",
            "Copenhagen        13729.753440   4758.651239      0.000000   8977.258650   \n",
            "Dublin             6525.791836   4279.249744   8977.258650      0.000000   \n",
            "Hamburg            4611.657214   6087.382616  10785.391520   2010.713487   \n",
            "Istanbul          13885.250040   4914.147838   1331.973047   8418.112283   \n",
            "Kiev              18303.395470   9332.293263   4659.649532  12925.816760   \n",
            "London            20501.150340  11530.048130   6857.404404  15123.571640   \n",
            "Madrid            10445.560740   1834.723252   6169.113541   4049.234762   \n",
            "Milan              5111.215170   6987.056951  11685.065860   2837.257474   \n",
            "Moscow             5321.257138  12700.007280  17398.016190   8623.338153   \n",
            "Munich             9198.361997   8103.547091  11809.121940   4132.417611   \n",
            "Paris             16281.346540   7839.370071   7753.355535  10062.431760   \n",
            "Prague            21307.459940  12336.357740   8604.931694  15540.737960   \n",
            "Rome              24205.027160  15233.924950  11502.498910  18438.305180   \n",
            "Saint Petersburg  13598.137950  12900.678470  16039.468970   9172.179007   \n",
            "Sofia             19561.308670  12681.516790  15795.608630  13495.297600   \n",
            "Stockholm         19640.514130  12782.439420  15897.938940  13574.503070   \n",
            "Vienna            22467.769600  14544.787120  14427.313540  16248.854820   \n",
            "Warsaw            25210.551550  17273.815170  13799.387930  18991.636760   \n",
            "Beijing           22578.524320  14645.481880  14521.315430  16359.609540   \n",
            "Shanghai          23861.069900  16376.987510  16259.513930  17795.058830   \n",
            "Guangzhou         24207.544850  16274.502410  16150.335960  17988.630070   \n",
            "Shenzhen          34584.077340  26564.668510  23061.131650  28365.162550   \n",
            "Hong Kong         18504.532960  10322.087290  10197.920830  12285.618170   \n",
            "\n",
            "                       Hamburg      Istanbul  ...  Saint Petersburg  \\\n",
            "City                                          ...                     \n",
            "Barcelona         11363.003100   7646.708079  ...      18289.708610   \n",
            "Belgrade           7000.977287  12956.739760  ...      14754.124040   \n",
            "Berlin            13642.764590   4612.105686  ...      19319.601610   \n",
            "Brussels          10134.502030   4193.143829  ...      16160.188390   \n",
            "Bucharest          4611.657214  13885.250040  ...      13598.137950   \n",
            "Budapest           6087.382616   4914.147838  ...      12900.678470   \n",
            "Copenhagen        10785.391520   1331.973047  ...      16039.468970   \n",
            "Dublin             2010.713487   8418.112283  ...       9172.179007   \n",
            "Hamburg               0.000000  10365.994370  ...      10036.836610   \n",
            "Istanbul          10365.994370      0.000000  ...      14945.588030   \n",
            "Kiev              14873.698850   4578.551517  ...      19072.691800   \n",
            "London            17071.453720   6776.306389  ...      21270.446670   \n",
            "Madrid             5979.251400   5080.218590  ...      11148.956000   \n",
            "Milan              1042.443275  10787.193050  ...       9070.434656   \n",
            "Moscow             6709.203531  16827.878520  ...      11068.766740   \n",
            "Munich             4997.075216  10715.241000  ...       5598.035704   \n",
            "Paris             11771.844580   6659.474591  ...       9634.959821   \n",
            "Prague            17488.620050   8072.098671  ...      15858.531730   \n",
            "Rome              20386.187260  10969.665880  ...      19253.968270   \n",
            "Saint Petersburg  10036.836610  14945.588030  ...          0.000000   \n",
            "Sofia             15051.806710  14701.727680  ...       6418.867889   \n",
            "Stockholm         15131.012170  14804.057990  ...       6498.073355   \n",
            "Vienna            17958.267640  13333.432600  ...       9668.174875   \n",
            "Warsaw            20701.049590  13188.323000  ...      12413.497590   \n",
            "Beijing           18069.022360  13427.434480  ...       9778.929594   \n",
            "Shanghai          19351.567940  15165.632990  ...      10704.796080   \n",
            "Guangzhou         19698.042890  15056.455010  ...      11195.897920   \n",
            "Shenzhen          30074.575380  22450.066720  ...      21586.995770   \n",
            "Hong Kong         13995.030990   9104.039887  ...       8561.528233   \n",
            "\n",
            "                         Sofia     Stockholm        Vienna        Warsaw  \\\n",
            "City                                                                       \n",
            "Barcelona         18422.298240  18523.220880  18609.451190  20408.151030   \n",
            "Belgrade          19470.838450  19550.043920  22171.678090  24914.460030   \n",
            "Berlin            19075.741260  19178.071580  17707.446180  16717.954020   \n",
            "Brussels          15916.328040  16018.658350  15185.326320  16844.366110   \n",
            "Bucharest         19561.308670  19640.514130  22467.769600  25210.551550   \n",
            "Budapest          12681.516790  12782.439420  14544.787120  17273.815170   \n",
            "Copenhagen        15795.608630  15897.938940  14427.313540  13799.387930   \n",
            "Dublin            13495.297600  13574.503070  16248.854820  18991.636760   \n",
            "Hamburg           15051.806710  15131.012170  17958.267640  20701.049590   \n",
            "Istanbul          14701.727680  14804.057990  13333.432600  13188.323000   \n",
            "Kiev              18626.380190  18728.710500  15840.145830  13494.184280   \n",
            "London            20577.808100  20680.138410  17680.116710  15334.155160   \n",
            "Madrid            10921.677900  11024.008220  13161.531060  15892.865450   \n",
            "Milan             14654.336450  14733.541920  17560.797390  20303.579330   \n",
            "Moscow            17352.252810  17430.634310  20392.839470  23436.591270   \n",
            "Munich            10938.133170  11017.338630  13933.016490  16675.798430   \n",
            "Paris              8925.760993   9028.091305   6752.797243   9492.806736   \n",
            "Prague            14313.464580  14415.794890  11415.773190   9069.811639   \n",
            "Rome              17235.244380  17337.574690  14333.654160  11828.212390   \n",
            "Saint Petersburg   6418.867889   6498.073355   9668.174875  12413.497590   \n",
            "Sofia                 0.000000    663.762087   3352.022947   6395.774742   \n",
            "Stockholm           663.762087      0.000000   3455.085724   6498.837518   \n",
            "Vienna             3352.022947   3455.085724      0.000000   3074.789593   \n",
            "Warsaw             6395.774742   6498.837518   3074.789593      0.000000   \n",
            "Beijing            3696.223715   3799.286491    406.283680   3063.189114   \n",
            "Shanghai           4299.761235   4402.824011   2127.729350   4363.931969   \n",
            "Guangzhou          4790.863070   4893.925846   2035.304211   4170.539487   \n",
            "Shenzhen          15181.960920  15285.023700  12411.836690  10263.788960   \n",
            "Hong Kong          7229.631857   7331.962169   5042.212774   7764.547949   \n",
            "\n",
            "                       Beijing      Shanghai     Guangzhou     Shenzhen  \\\n",
            "City                                                                      \n",
            "Barcelona         18710.145950  20441.651580  20339.166480  29669.89475   \n",
            "Belgrade          22282.432810  23770.599680  23911.453340  34287.98582   \n",
            "Berlin            17801.448060  19539.646570  19430.468600  25979.69774   \n",
            "Brussels          15286.021080  17017.526710  16915.041610  26106.10984   \n",
            "Bucharest         22578.524320  23861.069900  24207.544850  34584.07734   \n",
            "Budapest          14645.481880  16376.987510  16274.502410  26564.66851   \n",
            "Copenhagen        14521.315430  16259.513930  16150.335960  23061.13165   \n",
            "Dublin            16359.609540  17795.058830  17988.630070  28365.16255   \n",
            "Hamburg           18069.022360  19351.567940  19698.042890  30074.57538   \n",
            "Istanbul          13427.434480  15165.632990  15056.455010  22450.06672   \n",
            "Kiev              15918.635670  17519.736180  17399.345110  22755.92800   \n",
            "London            17758.606560  19359.707060  19239.315990  24595.89889   \n",
            "Madrid            13264.532160  14993.731450  14893.552690  25270.08518   \n",
            "Milan             17671.552110  18954.097690  19300.572640  29677.10512   \n",
            "Moscow            20737.040240  21335.844220  21826.946050  32218.04390   \n",
            "Munich            14043.771200  15237.894400  15672.791740  26049.32422   \n",
            "Paris              6863.551961   8584.997631   8492.572492  18869.10498   \n",
            "Prague            11494.263030  13095.363540  12974.972470  18331.55536   \n",
            "Rome              14412.144000  16013.244510  15892.853440  20944.85621   \n",
            "Saint Petersburg   9778.929594  10704.796080  11195.897920  21586.99577   \n",
            "Sofia              3696.223715   4299.761235   4790.863070  15181.96092   \n",
            "Stockholm          3799.286491   4402.824011   4893.925846  15285.02370   \n",
            "Vienna              406.283680   2127.729350   2035.304211  12411.83669   \n",
            "Warsaw             3063.189114   4363.931969   4170.539487  10263.78896   \n",
            "Beijing               0.000000   1749.411602   1629.020530  12005.55301   \n",
            "Shanghai           1749.411602      0.000000    610.703699  11001.80155   \n",
            "Guangzhou          1629.020530    610.703699      0.000000  10658.04151   \n",
            "Shenzhen          12005.553010  11001.801550  10658.041510      0.00000   \n",
            "Hong Kong          5136.214659   6874.413163   6765.235189  17141.76767   \n",
            "\n",
            "                     Hong Kong  \n",
            "City                            \n",
            "Barcelona         14386.751360  \n",
            "Belgrade          18208.441440  \n",
            "Berlin            13478.053470  \n",
            "Brussels          10962.626480  \n",
            "Bucharest         18504.532960  \n",
            "Budapest          10322.087290  \n",
            "Copenhagen        10197.920830  \n",
            "Dublin            12285.618170  \n",
            "Hamburg           13995.030990  \n",
            "Istanbul           9104.039887  \n",
            "Kiev              12214.187390  \n",
            "London            14376.838920  \n",
            "Madrid             8941.137566  \n",
            "Milan             13597.560740  \n",
            "Moscow            17208.022140  \n",
            "Munich            10011.056680  \n",
            "Paris              2541.078851  \n",
            "Prague             9832.047790  \n",
            "Rome              13289.499900  \n",
            "Saint Petersburg   8561.528233  \n",
            "Sofia              7229.631857  \n",
            "Stockholm          7331.962169  \n",
            "Vienna             5042.212774  \n",
            "Warsaw             7764.547949  \n",
            "Beijing            5136.214659  \n",
            "Shanghai           6874.413163  \n",
            "Guangzhou          6765.235189  \n",
            "Shenzhen          17141.767670  \n",
            "Hong Kong             0.000000  \n",
            "\n",
            "[29 rows x 29 columns]\n"
          ]
        }
      ]
    },
    {
      "cell_type": "code",
      "source": [
        "# city = '0'\n",
        "# position.loc[city, 'longitude']\n",
        "print(position)"
      ],
      "metadata": {
        "colab": {
          "base_uri": "https://localhost:8080/"
        },
        "id": "T9gnox1mb2Xq",
        "outputId": "92b97c04-ed48-45a6-d578-2af6a2d68fdf"
      },
      "execution_count": 7,
      "outputs": [
        {
          "output_type": "stream",
          "name": "stdout",
          "text": [
            "                    latitude  longitude\n",
            "City                                   \n",
            "Barcelona        -113.578003  53.531799\n",
            "Belgrade         -113.575996  53.476399\n",
            "Berlin           -113.553001  53.570499\n",
            "Brussels         -113.536003  53.542801\n",
            "Bucharest        -113.518997  53.439701\n",
            "Budapest         -113.512001  53.517700\n",
            "Copenhagen       -113.509003  53.559200\n",
            "Dublin           -113.495003  53.487202\n",
            "Hamburg          -113.495003  53.469799\n",
            "Istanbul         -113.494003  53.555199\n",
            "Kiev             -113.491997  53.594898\n",
            "London           -113.490997  53.614399\n",
            "Madrid           -113.486000  53.518200\n",
            "Milan            -113.485001  53.467899\n",
            "Moscow           -113.461998  53.424500\n",
            "Munich           -113.443001  53.482201\n",
            "Paris            -113.418999  53.540798\n",
            "Prague           -113.414001  53.597401\n",
            "Rome             -113.400002  53.621700\n",
            "Saint Petersburg -113.370003  53.479000\n",
            "Sofia            -113.324997  53.512402\n",
            "Stockholm        -113.323998  53.511501\n",
            "Vienna           -113.320999  53.539700\n",
            "Warsaw           -113.318001  53.567001\n",
            "Beijing          -113.317001  53.541500\n",
            "Shanghai         -113.294998  53.538700\n",
            "Guangzhou        -113.292000  53.541699\n",
            "Shenzhen         -113.172996  53.569401\n",
            "Hong Kong        -113.391998  53.543098\n"
          ]
        }
      ]
    },
    {
      "cell_type": "code",
      "execution_count": 8,
      "metadata": {
        "id": "O7_k_MvhKB-E"
      },
      "outputs": [],
      "source": [
        "#make some positions (so we can plot this)\n",
        "# sites = [i+1 for i in range(29)]\n",
        "positions = dict( ( city, (position.loc[city, 'longitude'], position.loc[city, 'latitude']) ) for city in sites)"
      ]
    },
    {
      "cell_type": "code",
      "source": [
        "print(positions)"
      ],
      "metadata": {
        "colab": {
          "base_uri": "https://localhost:8080/"
        },
        "id": "Xn82Yl94S-ht",
        "outputId": "d561f955-f1e9-4d58-d802-a1fd7eec6749"
      },
      "execution_count": 9,
      "outputs": [
        {
          "output_type": "stream",
          "name": "stdout",
          "text": [
            "{'Barcelona': (53.5317993, -113.5780029), 'Belgrade': (53.4763985, -113.5759964), 'Berlin': (53.5704994, -113.5530014), 'Brussels': (53.5428009, -113.5360031), 'Bucharest': (53.4397011, -113.5189972), 'Budapest': (53.5177002, -113.512001), 'Copenhagen': (53.5592003, -113.5090027), 'Dublin': (53.4872017, -113.4950027), 'Hamburg': (53.469799, -113.4950027), 'Istanbul': (53.5551987, -113.4940033), 'Kiev': (53.5948982, -113.4919968), 'London': (53.614399, -113.4909973), 'Madrid': (53.5181999, -113.4860001), 'Milan': (53.4678993, -113.4850006), 'Moscow': (53.4244995, -113.461998), 'Munich': (53.4822006, -113.4430008), 'Paris': (53.5407982, -113.4189987), 'Prague': (53.5974007, -113.4140015), 'Rome': (53.6217003, -113.4000015), 'Saint Petersburg': (53.4790001, -113.3700027), 'Sofia': (53.5124016, -113.3249969), 'Stockholm': (53.5115013, -113.3239975), 'Vienna': (53.5396996, -113.3209991), 'Warsaw': (53.5670013, -113.3180008), 'Beijing': (53.5415001, -113.3170013), 'Shanghai': (53.5387001, -113.2949982), 'Guangzhou': (53.5416985, -113.2919998), 'Shenzhen': (53.5694008, -113.1729965), 'Hong Kong': (53.5430984, -113.3919983)}\n"
          ]
        }
      ]
    },
    {
      "cell_type": "code",
      "execution_count": 10,
      "metadata": {
        "id": "frfyolwAKB-F",
        "outputId": "4755109d-a446-46db-c16d-4ada251df08d",
        "colab": {
          "base_uri": "https://localhost:8080/",
          "height": 768
        }
      },
      "outputs": [
        {
          "output_type": "stream",
          "name": "stdout",
          "text": [
            "s is  Barcelona\n",
            "s is  Belgrade\n",
            "s is  Berlin\n",
            "s is  Brussels\n",
            "s is  Bucharest\n",
            "s is  Budapest\n",
            "s is  Copenhagen\n",
            "s is  Dublin\n",
            "s is  Hamburg\n",
            "s is  Istanbul\n",
            "s is  Kiev\n",
            "s is  London\n",
            "s is  Madrid\n",
            "s is  Milan\n",
            "s is  Moscow\n",
            "s is  Munich\n",
            "s is  Paris\n",
            "s is  Prague\n",
            "s is  Rome\n",
            "s is  Saint Petersburg\n",
            "s is  Sofia\n",
            "s is  Stockholm\n",
            "s is  Vienna\n",
            "s is  Warsaw\n",
            "s is  Beijing\n",
            "s is  Shanghai\n",
            "s is  Guangzhou\n",
            "s is  Shenzhen\n",
            "s is  Hong Kong\n"
          ]
        },
        {
          "output_type": "display_data",
          "data": {
            "text/plain": [
              "<Figure size 432x288 with 1 Axes>"
            ],
            "image/png": "[encoded data removed]"
          },
          "metadata": {
            "needs_background": "light"
          }
        }
      ],
      "source": [
        "\n",
        "for s in positions:\n",
        "    print(\"s is \",s)\n",
        "    p = positions[s]\n",
        "    plt.plot(p[0],p[1],'o')\n",
        "    #plt.text(p[0]+.01,p[1],s,horizontalalignment='left',verticalalignment='center')\n",
        "    plt.text(p[0]+.01,p[1],s,horizontalalignment='left',verticalalignment='center')\n",
        "# plt.gca()#.axis('off');\n",
        "plt.show()"
      ]
    },
    {
      "cell_type": "code",
      "source": [
        "print(type(distance))\n",
        "print(distance)"
      ],
      "metadata": {
        "colab": {
          "base_uri": "https://localhost:8080/"
        },
        "id": "BLITLW6kYnXE",
        "outputId": "3eda4e2a-1b88-4b52-861a-3bccc1efdb35"
      },
      "execution_count": 11,
      "outputs": [
        {
          "output_type": "stream",
          "name": "stdout",
          "text": [
            "<class 'pandas.core.frame.DataFrame'>\n",
            "                     Barcelona      Belgrade        Berlin      Brussels  \\\n",
            "City                                                                       \n",
            "Barcelona             0.000000   7013.219963   5731.681634   3929.182709   \n",
            "Belgrade           7013.219963      0.000000  11704.402180   9642.040625   \n",
            "Berlin             5731.681634  11704.402180      0.000000   3776.116899   \n",
            "Brussels           3929.182709   9642.040625   3776.116899      0.000000   \n",
            "Bucharest         13504.551840   7717.705539  16156.305210  12926.200450   \n",
            "Budapest           5883.741729   8104.595890   7616.024304   4107.761745   \n",
            "Copenhagen         7030.965783  12727.001160   3490.479837   3577.401533   \n",
            "Dublin             9554.870222   6499.367981  11834.631710   8326.369156   \n",
            "Hamburg           11363.003100   7000.977287  13642.764590  10134.502030   \n",
            "Istanbul           7646.708079  12956.739760   4612.105686   4193.143829   \n",
            "Kiev              11618.038450  17300.643180   6533.249062   8164.474196   \n",
            "London            13815.793320  19498.398050   8667.881108  10362.229070   \n",
            "Madrid             7575.504709   9820.990899   9157.655655   5518.224047   \n",
            "Milan             12262.677430   7824.104463  14542.438920  11034.176360   \n",
            "Moscow            17975.627760  12585.874990  20255.389250  16747.126690   \n",
            "Munich            13385.578510   9714.362649  15089.254580  11842.253790   \n",
            "Paris             11904.034140  15881.961990  11033.488170   8479.909266   \n",
            "Prague            15330.031310  20378.949660  11116.875050  11827.723280   \n",
            "Rome              18227.598530  23276.516870  14014.442260  14725.290500   \n",
            "Saint Petersburg  18289.708610  14754.124040  19319.601610  16160.188390   \n",
            "Sofia             18422.298240  19470.838450  19075.741260  15916.328040   \n",
            "Stockholm         18523.220880  19550.043920  19178.071580  16018.658350   \n",
            "Vienna            18609.451190  22171.678090  17707.446180  15185.326320   \n",
            "Warsaw            20408.151030  24914.460030  16717.954020  16844.366110   \n",
            "Beijing           18710.145950  22282.432810  17801.448060  15286.021080   \n",
            "Shanghai          20441.651580  23770.599680  19539.646570  17017.526710   \n",
            "Guangzhou         20339.166480  23911.453340  19430.468600  16915.041610   \n",
            "Shenzhen          29669.894750  34287.985820  25979.697740  26106.109840   \n",
            "Hong Kong         14386.751360  18208.441440  13478.053470  10962.626480   \n",
            "\n",
            "                     Bucharest      Budapest    Copenhagen        Dublin  \\\n",
            "City                                                                       \n",
            "Barcelona         13504.551840   5883.741729   7030.965783   9554.870222   \n",
            "Belgrade           7717.705539   8104.595890  12727.001160   6499.367981   \n",
            "Berlin            16156.305210   7616.024304   3490.479837  11834.631710   \n",
            "Brussels          12926.200450   4107.761745   3577.401533   8326.369156   \n",
            "Bucharest             0.000000   9031.744536  13729.753440   6525.791836   \n",
            "Budapest           9031.744536      0.000000   4758.651239   4279.249744   \n",
            "Copenhagen        13729.753440   4758.651239      0.000000   8977.258650   \n",
            "Dublin             6525.791836   4279.249744   8977.258650      0.000000   \n",
            "Hamburg            4611.657214   6087.382616  10785.391520   2010.713487   \n",
            "Istanbul          13885.250040   4914.147838   1331.973047   8418.112283   \n",
            "Kiev              18303.395470   9332.293263   4659.649532  12925.816760   \n",
            "London            20501.150340  11530.048130   6857.404404  15123.571640   \n",
            "Madrid            10445.560740   1834.723252   6169.113541   4049.234762   \n",
            "Milan              5111.215170   6987.056951  11685.065860   2837.257474   \n",
            "Moscow             5321.257138  12700.007280  17398.016190   8623.338153   \n",
            "Munich             9198.361997   8103.547091  11809.121940   4132.417611   \n",
            "Paris             16281.346540   7839.370071   7753.355535  10062.431760   \n",
            "Prague            21307.459940  12336.357740   8604.931694  15540.737960   \n",
            "Rome              24205.027160  15233.924950  11502.498910  18438.305180   \n",
            "Saint Petersburg  13598.137950  12900.678470  16039.468970   9172.179007   \n",
            "Sofia             19561.308670  12681.516790  15795.608630  13495.297600   \n",
            "Stockholm         19640.514130  12782.439420  15897.938940  13574.503070   \n",
            "Vienna            22467.769600  14544.787120  14427.313540  16248.854820   \n",
            "Warsaw            25210.551550  17273.815170  13799.387930  18991.636760   \n",
            "Beijing           22578.524320  14645.481880  14521.315430  16359.609540   \n",
            "Shanghai          23861.069900  16376.987510  16259.513930  17795.058830   \n",
            "Guangzhou         24207.544850  16274.502410  16150.335960  17988.630070   \n",
            "Shenzhen          34584.077340  26564.668510  23061.131650  28365.162550   \n",
            "Hong Kong         18504.532960  10322.087290  10197.920830  12285.618170   \n",
            "\n",
            "                       Hamburg      Istanbul  ...  Saint Petersburg  \\\n",
            "City                                          ...                     \n",
            "Barcelona         11363.003100   7646.708079  ...      18289.708610   \n",
            "Belgrade           7000.977287  12956.739760  ...      14754.124040   \n",
            "Berlin            13642.764590   4612.105686  ...      19319.601610   \n",
            "Brussels          10134.502030   4193.143829  ...      16160.188390   \n",
            "Bucharest          4611.657214  13885.250040  ...      13598.137950   \n",
            "Budapest           6087.382616   4914.147838  ...      12900.678470   \n",
            "Copenhagen        10785.391520   1331.973047  ...      16039.468970   \n",
            "Dublin             2010.713487   8418.112283  ...       9172.179007   \n",
            "Hamburg               0.000000  10365.994370  ...      10036.836610   \n",
            "Istanbul          10365.994370      0.000000  ...      14945.588030   \n",
            "Kiev              14873.698850   4578.551517  ...      19072.691800   \n",
            "London            17071.453720   6776.306389  ...      21270.446670   \n",
            "Madrid             5979.251400   5080.218590  ...      11148.956000   \n",
            "Milan              1042.443275  10787.193050  ...       9070.434656   \n",
            "Moscow             6709.203531  16827.878520  ...      11068.766740   \n",
            "Munich             4997.075216  10715.241000  ...       5598.035704   \n",
            "Paris             11771.844580   6659.474591  ...       9634.959821   \n",
            "Prague            17488.620050   8072.098671  ...      15858.531730   \n",
            "Rome              20386.187260  10969.665880  ...      19253.968270   \n",
            "Saint Petersburg  10036.836610  14945.588030  ...          0.000000   \n",
            "Sofia             15051.806710  14701.727680  ...       6418.867889   \n",
            "Stockholm         15131.012170  14804.057990  ...       6498.073355   \n",
            "Vienna            17958.267640  13333.432600  ...       9668.174875   \n",
            "Warsaw            20701.049590  13188.323000  ...      12413.497590   \n",
            "Beijing           18069.022360  13427.434480  ...       9778.929594   \n",
            "Shanghai          19351.567940  15165.632990  ...      10704.796080   \n",
            "Guangzhou         19698.042890  15056.455010  ...      11195.897920   \n",
            "Shenzhen          30074.575380  22450.066720  ...      21586.995770   \n",
            "Hong Kong         13995.030990   9104.039887  ...       8561.528233   \n",
            "\n",
            "                         Sofia     Stockholm        Vienna        Warsaw  \\\n",
            "City                                                                       \n",
            "Barcelona         18422.298240  18523.220880  18609.451190  20408.151030   \n",
            "Belgrade          19470.838450  19550.043920  22171.678090  24914.460030   \n",
            "Berlin            19075.741260  19178.071580  17707.446180  16717.954020   \n",
            "Brussels          15916.328040  16018.658350  15185.326320  16844.366110   \n",
            "Bucharest         19561.308670  19640.514130  22467.769600  25210.551550   \n",
            "Budapest          12681.516790  12782.439420  14544.787120  17273.815170   \n",
            "Copenhagen        15795.608630  15897.938940  14427.313540  13799.387930   \n",
            "Dublin            13495.297600  13574.503070  16248.854820  18991.636760   \n",
            "Hamburg           15051.806710  15131.012170  17958.267640  20701.049590   \n",
            "Istanbul          14701.727680  14804.057990  13333.432600  13188.323000   \n",
            "Kiev              18626.380190  18728.710500  15840.145830  13494.184280   \n",
            "London            20577.808100  20680.138410  17680.116710  15334.155160   \n",
            "Madrid            10921.677900  11024.008220  13161.531060  15892.865450   \n",
            "Milan             14654.336450  14733.541920  17560.797390  20303.579330   \n",
            "Moscow            17352.252810  17430.634310  20392.839470  23436.591270   \n",
            "Munich            10938.133170  11017.338630  13933.016490  16675.798430   \n",
            "Paris              8925.760993   9028.091305   6752.797243   9492.806736   \n",
            "Prague            14313.464580  14415.794890  11415.773190   9069.811639   \n",
            "Rome              17235.244380  17337.574690  14333.654160  11828.212390   \n",
            "Saint Petersburg   6418.867889   6498.073355   9668.174875  12413.497590   \n",
            "Sofia                 0.000000    663.762087   3352.022947   6395.774742   \n",
            "Stockholm           663.762087      0.000000   3455.085724   6498.837518   \n",
            "Vienna             3352.022947   3455.085724      0.000000   3074.789593   \n",
            "Warsaw             6395.774742   6498.837518   3074.789593      0.000000   \n",
            "Beijing            3696.223715   3799.286491    406.283680   3063.189114   \n",
            "Shanghai           4299.761235   4402.824011   2127.729350   4363.931969   \n",
            "Guangzhou          4790.863070   4893.925846   2035.304211   4170.539487   \n",
            "Shenzhen          15181.960920  15285.023700  12411.836690  10263.788960   \n",
            "Hong Kong          7229.631857   7331.962169   5042.212774   7764.547949   \n",
            "\n",
            "                       Beijing      Shanghai     Guangzhou     Shenzhen  \\\n",
            "City                                                                      \n",
            "Barcelona         18710.145950  20441.651580  20339.166480  29669.89475   \n",
            "Belgrade          22282.432810  23770.599680  23911.453340  34287.98582   \n",
            "Berlin            17801.448060  19539.646570  19430.468600  25979.69774   \n",
            "Brussels          15286.021080  17017.526710  16915.041610  26106.10984   \n",
            "Bucharest         22578.524320  23861.069900  24207.544850  34584.07734   \n",
            "Budapest          14645.481880  16376.987510  16274.502410  26564.66851   \n",
            "Copenhagen        14521.315430  16259.513930  16150.335960  23061.13165   \n",
            "Dublin            16359.609540  17795.058830  17988.630070  28365.16255   \n",
            "Hamburg           18069.022360  19351.567940  19698.042890  30074.57538   \n",
            "Istanbul          13427.434480  15165.632990  15056.455010  22450.06672   \n",
            "Kiev              15918.635670  17519.736180  17399.345110  22755.92800   \n",
            "London            17758.606560  19359.707060  19239.315990  24595.89889   \n",
            "Madrid            13264.532160  14993.731450  14893.552690  25270.08518   \n",
            "Milan             17671.552110  18954.097690  19300.572640  29677.10512   \n",
            "Moscow            20737.040240  21335.844220  21826.946050  32218.04390   \n",
            "Munich            14043.771200  15237.894400  15672.791740  26049.32422   \n",
            "Paris              6863.551961   8584.997631   8492.572492  18869.10498   \n",
            "Prague            11494.263030  13095.363540  12974.972470  18331.55536   \n",
            "Rome              14412.144000  16013.244510  15892.853440  20944.85621   \n",
            "Saint Petersburg   9778.929594  10704.796080  11195.897920  21586.99577   \n",
            "Sofia              3696.223715   4299.761235   4790.863070  15181.96092   \n",
            "Stockholm          3799.286491   4402.824011   4893.925846  15285.02370   \n",
            "Vienna              406.283680   2127.729350   2035.304211  12411.83669   \n",
            "Warsaw             3063.189114   4363.931969   4170.539487  10263.78896   \n",
            "Beijing               0.000000   1749.411602   1629.020530  12005.55301   \n",
            "Shanghai           1749.411602      0.000000    610.703699  11001.80155   \n",
            "Guangzhou          1629.020530    610.703699      0.000000  10658.04151   \n",
            "Shenzhen          12005.553010  11001.801550  10658.041510      0.00000   \n",
            "Hong Kong          5136.214659   6874.413163   6765.235189  17141.76767   \n",
            "\n",
            "                     Hong Kong  \n",
            "City                            \n",
            "Barcelona         14386.751360  \n",
            "Belgrade          18208.441440  \n",
            "Berlin            13478.053470  \n",
            "Brussels          10962.626480  \n",
            "Bucharest         18504.532960  \n",
            "Budapest          10322.087290  \n",
            "Copenhagen        10197.920830  \n",
            "Dublin            12285.618170  \n",
            "Hamburg           13995.030990  \n",
            "Istanbul           9104.039887  \n",
            "Kiev              12214.187390  \n",
            "London            14376.838920  \n",
            "Madrid             8941.137566  \n",
            "Milan             13597.560740  \n",
            "Moscow            17208.022140  \n",
            "Munich            10011.056680  \n",
            "Paris              2541.078851  \n",
            "Prague             9832.047790  \n",
            "Rome              13289.499900  \n",
            "Saint Petersburg   8561.528233  \n",
            "Sofia              7229.631857  \n",
            "Stockholm          7331.962169  \n",
            "Vienna             5042.212774  \n",
            "Warsaw             7764.547949  \n",
            "Beijing            5136.214659  \n",
            "Shanghai           6874.413163  \n",
            "Guangzhou          6765.235189  \n",
            "Shenzhen          17141.767670  \n",
            "Hong Kong             0.000000  \n",
            "\n",
            "[29 rows x 29 columns]\n"
          ]
        }
      ]
    },
    {
      "cell_type": "code",
      "execution_count": 12,
      "metadata": {
        "id": "cB9YSye1KB-F"
      },
      "outputs": [],
      "source": [
        "# get distanc between cities\n",
        "distances = dict( ((s1,s2), distance.loc[s1, s2] ) for s1 in positions for s2 in positions if s1!=s2)"
      ]
    },
    {
      "cell_type": "markdown",
      "metadata": {
        "id": "tPsTQOpuKB-G"
      },
      "source": [
        "## The model\n",
        "\n",
        "For **K** oil tanker truck:\n",
        "\n",
        "### Variables:\n",
        "\n",
        "$x_{ij}=\n",
        "\\begin{cases}\n",
        "1: \\text{the path goes from node i to j}\\\\\n",
        "0: \\text{no path (otherwise)}\n",
        "\\end{cases}$\n",
        "\n",
        "### order dummy variables:\n",
        "N = 29\n",
        "K = 1,2,3,....\n",
        "\n",
        "$u_i - u_j + C*x_{ij} \\leq C - d_j, C = N/K$\n",
        "$\\begin{cases}\n",
        "u_i: \\text{the load left in the vehicle after visiting node i}\\\\\n",
        "d_j: \\text{demand of node j}, 0 \\leq u_i \\leq C - d_j, \\forall i \\in V \\setminus \\{0\\}\n",
        "\\end{cases}$\n",
        "\n",
        "### Goal:\n",
        "\n",
        "$min\\sum_{i=0}^{n}\\sum_{j\\neq{i}, j=0}^{n}{c_{ij}}{x_{ij}}$\n",
        "$\\begin{cases}\n",
        "c_{ij}: \\text{distance from node i to node j}\\\\\n",
        "x_{ij}: \\text{whether there's a path between i and j}\n",
        "\\end{cases}$\n",
        "\n",
        "### Constraints:\n",
        "\n",
        "$\\sum_{i\\in{V}}{x_{ij} = 1}, \\forall j \\in V \\setminus \\{0\\}$\n",
        "\n",
        "$\\sum_{j\\in{V}}{x_{ij} = 1}, \\forall i \\in V \\setminus \\{0\\}$\n",
        "\n",
        "$\\sum_{i\\in{V}}{x_{i0} = K}$\n",
        "\n",
        "$\\sum_{j\\in{V}}{x_{0j} = K}$"
      ]
    },
    {
      "cell_type": "code",
      "execution_count": 59,
      "metadata": {
        "id": "WAu2X2FdKB-I"
      },
      "outputs": [],
      "source": [
        "K = 2 #the number of sales people "
      ]
    },
    {
      "cell_type": "code",
      "execution_count": 60,
      "metadata": {
        "id": "o5wlgXIwKB-L"
      },
      "outputs": [],
      "source": [
        "#create the problme\n",
        "prob=LpProblem(\"vehicle\", LpMinimize)"
      ]
    },
    {
      "cell_type": "code",
      "source": [
        "print(sites.index(i) for i in sites)\n",
        "starting_point = sites[-1]"
      ],
      "metadata": {
        "colab": {
          "base_uri": "https://localhost:8080/"
        },
        "id": "ljhIzz7wUyWZ",
        "outputId": "4e04552c-2b10-45fc-c8f7-05d9b780c916"
      },
      "execution_count": 62,
      "outputs": [
        {
          "output_type": "stream",
          "name": "stdout",
          "text": [
            "<generator object <genexpr> at 0x7f86fdcd3c50>\n"
          ]
        }
      ]
    },
    {
      "cell_type": "code",
      "execution_count": 63,
      "metadata": {
        "id": "tg_WvpLAKB-M"
      },
      "outputs": [],
      "source": [
        "#indicator variable if site i is connected to site j in the tour\n",
        "x = LpVariable.dicts('x', distances, 0, 1, LpBinary)\n",
        "#dummy vars to eliminate subtours\n",
        "u = LpVariable.dicts('u', sites, 0, len(sites)-1, LpInteger)"
      ]
    },
    {
      "cell_type": "code",
      "execution_count": 64,
      "metadata": {
        "id": "rP5W8lSPKB-N"
      },
      "outputs": [],
      "source": [
        "#the objective\n",
        "cost = lpSum([x[(i,j)]*distances[(i,j)] for (i,j) in distances])\n",
        "prob+=cost"
      ]
    },
    {
      "cell_type": "code",
      "execution_count": 65,
      "metadata": {
        "id": "cufgqTWnKB-N"
      },
      "outputs": [],
      "source": [
        "#constraints\n",
        "for k in sites:\n",
        "    cap = 1 if k != starting_point else K\n",
        "    #inbound connection\n",
        "    prob+= lpSum([ x[(i,k)] for i in sites if (i,k) in x]) ==cap\n",
        "    #outbound connection\n",
        "    prob+=lpSum([ x[(k,i)] for i in sites if (k,i) in x]) ==cap\n",
        "    \n",
        "#subtour elimination\n",
        "N=len(sites)/K\n",
        "for i in sites:\n",
        "    for j in sites:\n",
        "        if i != j and (i != starting_point and j!= starting_point) and (i,j) in x:\n",
        "            prob += u[i] - u[j] <= (N)*(1-x[(i,j)]) - 1"
      ]
    },
    {
      "cell_type": "markdown",
      "metadata": {
        "id": "l9Rzp1VgKB-O"
      },
      "source": [
        "Solve it!"
      ]
    },
    {
      "cell_type": "code",
      "execution_count": null,
      "metadata": {
        "id": "hU-WlmVCKB-O"
      },
      "outputs": [],
      "source": [
        "%time prob.solve()\n",
        "print(LpStatus[prob.status])"
      ]
    },
    {
      "cell_type": "code",
      "execution_count": 34,
      "metadata": {
        "id": "ix4_WVboKB-P"
      },
      "outputs": [],
      "source": [
        "non_zero_edges = [ e for e in x if value(x[e]) != 0 ]\n",
        "\n",
        "def get_next_site(parent):\n",
        "    '''helper function to get the next edge'''\n",
        "    edges = [e for e in non_zero_edges if e[0]==parent]\n",
        "    for e in edges:\n",
        "        non_zero_edges.remove(e)\n",
        "    return edges"
      ]
    },
    {
      "cell_type": "code",
      "execution_count": 35,
      "metadata": {
        "id": "Nq8JvVcRKB-Q"
      },
      "outputs": [],
      "source": [
        "tours = get_next_site(starting_point)\n",
        "tours = [ [e] for e in tours ]\n",
        "\n",
        "for t in tours:\n",
        "    while t[-1][1] !=starting_point:\n",
        "        t.append(get_next_site(t[-1][1])[-1])"
      ]
    },
    {
      "cell_type": "markdown",
      "metadata": {
        "id": "bTDo_aFAKB-Q"
      },
      "source": [
        "The optimal route:"
      ]
    },
    {
      "cell_type": "code",
      "source": [
        "sites.index('Hong Kong')"
      ],
      "metadata": {
        "colab": {
          "base_uri": "https://localhost:8080/"
        },
        "id": "fkgIbXOdxp0b",
        "outputId": "20a8800b-b26e-4013-973c-255ce9f344d1"
      },
      "execution_count": 45,
      "outputs": [
        {
          "output_type": "execute_result",
          "data": {
            "text/plain": [
              "28"
            ]
          },
          "metadata": {},
          "execution_count": 45
        }
      ]
    },
    {
      "cell_type": "code",
      "execution_count": 55,
      "metadata": {
        "id": "I_kFofzwKB-R",
        "colab": {
          "base_uri": "https://localhost:8080/",
          "height": 53
        },
        "outputId": "785cf275-3d13-46cd-8207-e7c6e543641e"
      },
      "outputs": [
        {
          "output_type": "execute_result",
          "data": {
            "text/plain": [
              "'29 -> 23 -> 25 -> 24 -> 28 -> 27 -> 26 -> 21 -> 22 -> 20 -> 16 -> 13 -> 6 -> 8 -> 9 -> 14 -> 15 -> 5 -> 2 -> 1 -> 4 -> 3 -> 7 -> 10 -> 11 -> 12 -> 19 -> 18 -> 17 -> '"
            ],
            "application/vnd.google.colaboratory.intrinsic+json": {
              "type": "string"
            }
          },
          "metadata": {},
          "execution_count": 55
        }
      ],
      "source": [
        "str_print = ''\n",
        "for ab in t:\n",
        "    str_print += str(sites.index(ab[0]) + 1) + ' -> '\n",
        "str_print\n",
        "    # print(' -> '+ )\n",
        "    # print(' -> '.join([ a for a,b in t]+[starting_point]))\n",
        "    # print(' -> '.join([ t.index(a) for a,b in t]+[starting_point]))\n",
        "    # print(t[0])\n",
        "    # print(' -> '.join([ sites.index(a) for a,b in t]+[starting_point]))"
      ]
    },
    {
      "cell_type": "markdown",
      "metadata": {
        "id": "kxrwzI2XKB-R"
      },
      "source": [
        "Calculate total time:"
      ]
    },
    {
      "cell_type": "code",
      "execution_count": 38,
      "metadata": {
        "id": "qyM-LNkcKB-R",
        "outputId": "9a7ced3b-3814-4b8b-c58a-826f1f9d7c0c",
        "colab": {
          "base_uri": "https://localhost:8080/"
        }
      },
      "outputs": [
        {
          "output_type": "stream",
          "name": "stdout",
          "text": [
            "29\n"
          ]
        }
      ],
      "source": [
        "totalTime = 0;\n",
        "for t in tours:\n",
        "    time = 0\n",
        "    for i in range(0, len(t)):\n",
        "        time += 1#flighttime.loc[t[i][0], t[i][1]]\n",
        "#         print(flighttime.loc[t[i][0], t[i][1]])\n",
        "#     print(time)\n",
        "    if time > totalTime:\n",
        "        totalTime = time\n",
        "print(totalTime)"
      ]
    },
    {
      "cell_type": "code",
      "execution_count": 56,
      "metadata": {
        "id": "bGaNIPaVKB-S",
        "outputId": "a22a9b09-616a-4298-cc9a-d233ad801b1c",
        "colab": {
          "base_uri": "https://localhost:8080/",
          "height": 279
        }
      },
      "outputs": [
        {
          "output_type": "display_data",
          "data": {
            "text/plain": [
              "<Figure size 432x288 with 1 Axes>"
            ],
            "image/png": "[encoded data removed]"
          },
          "metadata": {
            "needs_background": "light"
          }
        }
      ],
      "source": [
        "#draw the tours\n",
        "colors = [np.random.rand(3) for i in range(len(tours))]\n",
        "for t,c in zip(tours,colors):\n",
        "    for a,b in t:\n",
        "        p1,p2 = positions[a], positions[b]\n",
        "        plt.plot([p1[0],p2[0]],[p1[1],p2[1]], color=c)\n",
        "\n",
        "#draw the map again\n",
        "count = 0\n",
        "for s in positions:\n",
        "    count += 1\n",
        "    p = positions[s]\n",
        "    plt.plot(p[0],p[1],'o')\n",
        "    plt.text(p[0]+.01,p[1],str(count),horizontalalignment='left',verticalalignment='center')\n",
        "\n",
        "#plt.title('%d '%K + 'people' if K > 1 else 'person')\n",
        "plt.title('')\n",
        "plt.xlabel('latitude')\n",
        "plt.ylabel('longitude')\n",
        "# plt.gca().axis('off')\n",
        "plt.show()"
      ]
    },
    {
      "cell_type": "code",
      "execution_count": 58,
      "metadata": {
        "id": "MhLOiwVfKB-T",
        "outputId": "f714e746-b82d-43f8-c6dd-d15c0e712f81",
        "colab": {
          "base_uri": "https://localhost:8080/"
        }
      },
      "outputs": [
        {
          "output_type": "stream",
          "name": "stdout",
          "text": [
            "Total distance: 128511.52903179996 (m)\n"
          ]
        }
      ],
      "source": [
        "# print('Longest time spent:', totalTime, '(min)')\n",
        "print('Total distance:', value(prob.objective), '(m)')"
      ]
    }
  ],
  "metadata": {
    "kernelspec": {
      "display_name": "Python 3",
      "language": "python",
      "name": "python3"
    },
    "language_info": {
      "codemirror_mode": {
        "name": "ipython",
        "version": 3
      },
      "file_extension": ".py",
      "mimetype": "text/x-python",
      "name": "python",
      "nbconvert_exporter": "python",
      "pygments_lexer": "ipython3",
      "version": "3.6.7"
    },
    "colab": {
      "name": "VRP.ipynb",
      "provenance": [],
      "collapsed_sections": []
    }
  },
  "nbformat": 4,
  "nbformat_minor": 0
}